{
 "cells": [
  {
   "attachments": {},
   "cell_type": "markdown",
   "metadata": {},
   "source": [
    "# Data Lakes"
   ]
  },
  {
   "attachments": {},
   "cell_type": "markdown",
   "metadata": {},
   "source": [
    "-------------------------------------------"
   ]
  },
  {
   "attachments": {},
   "cell_type": "markdown",
   "metadata": {},
   "source": [
    "Definition:  Big data file repository (raw data), organisezed as log files, csv, json. A distribuitied file system.\n",
    "\n",
    "Examples: \n",
    "\n",
    "> Hadoop\n",
    "\n",
    "> AWS S3\n",
    "\n",
    "> Google"
   ]
  },
  {
   "attachments": {},
   "cell_type": "markdown",
   "metadata": {},
   "source": [
    "-----------------------------------"
   ]
  },
  {
   "attachments": {},
   "cell_type": "markdown",
   "metadata": {},
   "source": [
    "Something must impart structure upon this unstructureless data.\n",
    "\n"
   ]
  },
  {
   "attachments": {},
   "cell_type": "markdown",
   "metadata": {},
   "source": [
    "------------------------------"
   ]
  },
  {
   "attachments": {},
   "cell_type": "markdown",
   "metadata": {},
   "source": [
    "## AWS Example"
   ]
  },
  {
   "attachments": {},
   "cell_type": "markdown",
   "metadata": {},
   "source": [
    "In aws they offer a servicess called \"Amazon Glue\",  which allows to define what schema is. So this allows to query that data as if it were in a database.\n",
    "\n",
    "\n",
    "> Amazon Athena is a serverless application which allows to query the data usig SQL. (We can say it is just a SQL interface, which is siting in S3)\n",
    "\n",
    "> Amazon Redshit is a distributed data warehouse. \n",
    "\n",
    "    In this case we have __Redshipt spectrum__ , which allows to query S3 directly as opposed to store it into an actual databse servers.\n",
    "    \n",
    "    Redshift is more hibrid between traditional data warehouse and something sitting on top of a data lake\n",
    "\n",
    "\n",
    "\n",
    "\n",
    "![](Data_Lake_IMGS/AWSEXAMPLE.png)"
   ]
  },
  {
   "attachments": {},
   "cell_type": "markdown",
   "metadata": {},
   "source": [
    "-----------------------------------------------------"
   ]
  }
 ],
 "metadata": {
  "language_info": {
   "name": "python"
  },
  "orig_nbformat": 4
 },
 "nbformat": 4,
 "nbformat_minor": 2
}
