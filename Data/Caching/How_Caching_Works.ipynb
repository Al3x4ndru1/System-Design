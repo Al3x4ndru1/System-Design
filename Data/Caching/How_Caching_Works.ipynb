{
 "cells": [
  {
   "attachments": {},
   "cell_type": "markdown",
   "metadata": {},
   "source": [
    "# __How Caching Works__"
   ]
  },
  {
   "attachments": {},
   "cell_type": "markdown",
   "metadata": {},
   "source": [
    "-----------------------------------------------"
   ]
  },
  {
   "attachments": {},
   "cell_type": "markdown",
   "metadata": {},
   "source": [
    "![](Caching_IMGS/How_Caching_Works.png)"
   ]
  },
  {
   "attachments": {},
   "cell_type": "markdown",
   "metadata": {},
   "source": [
    "__This technique is useful when we have more reads than writes.__"
   ]
  },
  {
   "attachments": {},
   "cell_type": "markdown",
   "metadata": {},
   "source": [
    "## After the second point:\n",
    "\n",
    "It will apply some kind of mathematical function to the key that the user is looking for and say: \"For this key I know I want to go to this caching host\". And that chaching host will be responsible for that little segment of the data there.\n",
    "\n",
    "(This is the way to distribute the information amongst the entire fleet of cache servers)\n",
    "\n",
    "Basically, every cache server is responsible for some subset of the data in the database undernith it. Moreover, the hash functions allow us to quickly map which server I need to talk to.\n",
    "\n",
    "There may be redundancy too."
   ]
  },
  {
   "attachments": {},
   "cell_type": "markdown",
   "metadata": {},
   "source": [
    "---------------------------------------------------"
   ]
  },
  {
   "attachments": {},
   "cell_type": "markdown",
   "metadata": {},
   "source": [
    "## __PROBLEMS__"
   ]
  },
  {
   "attachments": {},
   "cell_type": "markdown",
   "metadata": {},
   "source": [
    "## __Out of date__"
   ]
  },
  {
   "attachments": {},
   "cell_type": "markdown",
   "metadata": {},
   "source": [
    "We must be careful in terms of the duration of the infromation in the cache servers. Because it might be out of date."
   ]
  },
  {
   "attachments": {},
   "cell_type": "markdown",
   "metadata": {},
   "source": [
    "<br>"
   ]
  },
  {
   "attachments": {},
   "cell_type": "markdown",
   "metadata": {},
   "source": [
    "## __Hotspots__"
   ]
  },
  {
   "attachments": {},
   "cell_type": "markdown",
   "metadata": {},
   "source": [
    "__This is known as \"Celebrity problem\"__"
   ]
  },
  {
   "attachments": {},
   "cell_type": "markdown",
   "metadata": {},
   "source": [
    "We make have a website that shows information about actors."
   ]
  },
  {
   "attachments": {},
   "cell_type": "markdown",
   "metadata": {},
   "source": [
    "So we may have infromatin about an obscure actor sitting in one server, but in another one we may have information about \"Brad Pitt\"."
   ]
  },
  {
   "attachments": {},
   "cell_type": "markdown",
   "metadata": {},
   "source": [
    "The issue is: everyboady search for \"Brad Pitt\" so I will have a lot of traffic going to that specific server that hosts \"Brad Pitt\" information."
   ]
  },
  {
   "attachments": {},
   "cell_type": "markdown",
   "metadata": {},
   "source": [
    "An inteligent cache solution would not be just a naive serching for the key itselv we would actually look at low distribution."
   ]
  },
  {
   "attachments": {},
   "cell_type": "markdown",
   "metadata": {},
   "source": [
    "__Low distribution:__ It will see a lot of trafiic coming for \"Brad Pitt\" so it will put a server just for \"Brad Pitt\" or distribue the data amouns the servers."
   ]
  },
  {
   "attachments": {},
   "cell_type": "markdown",
   "metadata": {},
   "source": [
    "<br>"
   ]
  },
  {
   "attachments": {},
   "cell_type": "markdown",
   "metadata": {},
   "source": [
    "## __Cold-star Problem__"
   ]
  },
  {
   "attachments": {},
   "cell_type": "markdown",
   "metadata": {},
   "source": [
    "If our system depends on cache in order to be operational at all, we are going to suffe in the first part when we are turning on the server, bacause there is nothing in tha cache so the processor will have a lot of miss and it will be hitting the storege multiple times."
   ]
  },
  {
   "attachments": {},
   "cell_type": "markdown",
   "metadata": {},
   "source": [
    "This will be aproblem untill the cache gets warmed  up."
   ]
  },
  {
   "attachments": {},
   "cell_type": "markdown",
   "metadata": {},
   "source": [
    "If we have a lot of transactions in the begining, the initial burst of traffic to the database might be enough to make the databse crach and fail."
   ]
  },
  {
   "attachments": {},
   "cell_type": "markdown",
   "metadata": {},
   "source": [
    "One way to deal with that is to have a separate procedure for warming up the cache before we actuallly expose it. (We can simulate requests)"
   ]
  },
  {
   "attachments": {},
   "cell_type": "markdown",
   "metadata": {},
   "source": [
    "-------------------------------------------------"
   ]
  }
 ],
 "metadata": {
  "language_info": {
   "name": "python"
  },
  "orig_nbformat": 4
 },
 "nbformat": 4,
 "nbformat_minor": 2
}
